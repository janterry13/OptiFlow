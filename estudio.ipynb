{
 "cells": [
  {
   "cell_type": "code",
   "execution_count": 943,
   "metadata": {},
   "outputs": [],
   "source": [
    "import numpy as np\n",
    "import pandas as pd\n",
    "import datetime as dt\n",
    "import seaborn as sns\n",
    "import matplotlib.pyplot as plt"
   ]
  },
  {
   "cell_type": "code",
   "execution_count": 944,
   "metadata": {},
   "outputs": [],
   "source": [
    "#Define constants of cost storage function\n",
    "C = 5\n",
    "K1 = 1\n",
    "\n",
    "#Function Cost storage based on units\n",
    "def cost_storage(qt, st):\n",
    "  n = qt - st\n",
    "\n",
    "  if(n <= 0): return 0\n",
    "  return C*n + K1"
   ]
  },
  {
   "cell_type": "code",
   "execution_count": 945,
   "metadata": {},
   "outputs": [],
   "source": [
    "#Define onstants of penalization function\n",
    "D = 35\n",
    "K2 = 5\n",
    "\n"
   ]
  },
  {
   "cell_type": "code",
   "execution_count": 946,
   "metadata": {},
   "outputs": [],
   "source": [
    "from scipy.stats import norm"
   ]
  },
  {
   "cell_type": "code",
   "execution_count": 947,
   "metadata": {},
   "outputs": [],
   "source": [
    "#Density funciton\n",
    "\n",
    "\n",
    "def f_density(x, mu):  \n",
    "    aux = norm.pdf(x, mu, SIGMA)\n",
    "    return aux"
   ]
  },
  {
   "cell_type": "code",
   "execution_count": 948,
   "metadata": {},
   "outputs": [],
   "source": [
    "#Constants\n",
    "step = 1\n",
    "\n",
    "#Loss function\n",
    "def f_loss(qt,st):\n",
    "    loss = 0\n",
    "\n",
    "    #first integral\n",
    "    rng = np.arange(st, qt+step, step)\n",
    "\n",
    "    for i in rng:\n",
    "        loss += cost_storage(i,st)*f_density(i,qt)\n",
    "    \n",
    "    \n",
    "\n",
    "    #second integral\n",
    "    rng2 = np.arange(0, st+step, step)\n",
    "    for i in rng2:\n",
    "        loss += penalization_cost(i,st)*f_density(i,qt)\n",
    "    \n",
    "\n",
    "    return loss"
   ]
  },
  {
   "cell_type": "code",
   "execution_count": 949,
   "metadata": {},
   "outputs": [],
   "source": [
    "#Constants\n",
    "step_s = 10\n",
    "\n",
    "#Solve qt\n",
    "def solve_qt_it(st,it):\n",
    "    if(st == it):\n",
    "        return st\n",
    "    \n",
    "    rng = np.arange(st, it, step_s)\n",
    "\n",
    "    min_loss = np.inf\n",
    "    min_qt = 1000\n",
    "\n",
    "    for i in rng:\n",
    "        aux_loss = f_loss(i,st)\n",
    "        if(aux_loss < min_loss):\n",
    "            min_loss = aux_loss\n",
    "            min_qt = i\n",
    "\n",
    "    return min_qt"
   ]
  },
  {
   "cell_type": "code",
   "execution_count": 950,
   "metadata": {},
   "outputs": [],
   "source": [
    "#Solve solution\n",
    "def general_solution(v_it, v_st):\n",
    "    v_qt = []\n",
    "    for i in range(0, len(v_it)):\n",
    "        v_qt.append(solve_qt_it(v_st[i], v_it[i]))\n",
    "        #print(\"   \", i)\n",
    "    \n",
    "    return v_qt"
   ]
  },
  {
   "cell_type": "code",
   "execution_count": 951,
   "metadata": {},
   "outputs": [],
   "source": [
    "#Test 1\n",
    "df_train = pd.read_csv(\"train.csv\")\n",
    "df_train = df_train.sort_values(by = [\"date\"])\n"
   ]
  },
  {
   "cell_type": "code",
   "execution_count": 952,
   "metadata": {},
   "outputs": [
    {
     "data": {
      "text/html": [
       "<div>\n",
       "<style scoped>\n",
       "    .dataframe tbody tr th:only-of-type {\n",
       "        vertical-align: middle;\n",
       "    }\n",
       "\n",
       "    .dataframe tbody tr th {\n",
       "        vertical-align: top;\n",
       "    }\n",
       "\n",
       "    .dataframe thead th {\n",
       "        text-align: right;\n",
       "    }\n",
       "</style>\n",
       "<table border=\"1\" class=\"dataframe\">\n",
       "  <thead>\n",
       "    <tr style=\"text-align: right;\">\n",
       "      <th></th>\n",
       "      <th>id</th>\n",
       "      <th>date</th>\n",
       "      <th>year_week</th>\n",
       "      <th>product_number</th>\n",
       "      <th>reporterhq_id</th>\n",
       "      <th>prod_category</th>\n",
       "      <th>specs</th>\n",
       "      <th>display_size</th>\n",
       "      <th>segment</th>\n",
       "      <th>sales_units</th>\n",
       "      <th>inventory_units</th>\n",
       "    </tr>\n",
       "  </thead>\n",
       "  <tbody>\n",
       "    <tr>\n",
       "      <th>9952</th>\n",
       "      <td>202318-172725</td>\n",
       "      <td>2023-05-06</td>\n",
       "      <td>202318</td>\n",
       "      <td>172725</td>\n",
       "      <td>12</td>\n",
       "      <td>Goku</td>\n",
       "      <td>163423</td>\n",
       "      <td>15.6</td>\n",
       "      <td>Gaming</td>\n",
       "      <td>0.0</td>\n",
       "      <td>26.0</td>\n",
       "    </tr>\n",
       "    <tr>\n",
       "      <th>5228</th>\n",
       "      <td>202318-80934</td>\n",
       "      <td>2023-05-06</td>\n",
       "      <td>202318</td>\n",
       "      <td>80934</td>\n",
       "      <td>3</td>\n",
       "      <td>Conan</td>\n",
       "      <td>151819</td>\n",
       "      <td>13.5</td>\n",
       "      <td>Premium</td>\n",
       "      <td>121.0</td>\n",
       "      <td>89.0</td>\n",
       "    </tr>\n",
       "    <tr>\n",
       "      <th>5229</th>\n",
       "      <td>202318-80934</td>\n",
       "      <td>2023-05-06</td>\n",
       "      <td>202318</td>\n",
       "      <td>80934</td>\n",
       "      <td>24</td>\n",
       "      <td>Conan</td>\n",
       "      <td>151819</td>\n",
       "      <td>13.5</td>\n",
       "      <td>Premium</td>\n",
       "      <td>36.0</td>\n",
       "      <td>68.0</td>\n",
       "    </tr>\n",
       "    <tr>\n",
       "      <th>15151</th>\n",
       "      <td>202318-242802</td>\n",
       "      <td>2023-05-06</td>\n",
       "      <td>202318</td>\n",
       "      <td>242802</td>\n",
       "      <td>93</td>\n",
       "      <td>Conan</td>\n",
       "      <td>3868</td>\n",
       "      <td>13.3</td>\n",
       "      <td>Premium</td>\n",
       "      <td>5.0</td>\n",
       "      <td>3.0</td>\n",
       "    </tr>\n",
       "    <tr>\n",
       "      <th>15453</th>\n",
       "      <td>202318-247737</td>\n",
       "      <td>2023-05-06</td>\n",
       "      <td>202318</td>\n",
       "      <td>247737</td>\n",
       "      <td>24</td>\n",
       "      <td>Arale</td>\n",
       "      <td>10637</td>\n",
       "      <td>13.3</td>\n",
       "      <td>Premium</td>\n",
       "      <td>5.0</td>\n",
       "      <td>1.0</td>\n",
       "    </tr>\n",
       "  </tbody>\n",
       "</table>\n",
       "</div>"
      ],
      "text/plain": [
       "                  id        date  year_week  product_number  reporterhq_id  \\\n",
       "9952   202318-172725  2023-05-06     202318          172725             12   \n",
       "5228    202318-80934  2023-05-06     202318           80934              3   \n",
       "5229    202318-80934  2023-05-06     202318           80934             24   \n",
       "15151  202318-242802  2023-05-06     202318          242802             93   \n",
       "15453  202318-247737  2023-05-06     202318          247737             24   \n",
       "\n",
       "      prod_category   specs  display_size  segment  sales_units  \\\n",
       "9952           Goku  163423          15.6   Gaming          0.0   \n",
       "5228          Conan  151819          13.5  Premium        121.0   \n",
       "5229          Conan  151819          13.5  Premium         36.0   \n",
       "15151         Conan    3868          13.3  Premium          5.0   \n",
       "15453         Arale   10637          13.3  Premium          5.0   \n",
       "\n",
       "       inventory_units  \n",
       "9952              26.0  \n",
       "5228              89.0  \n",
       "5229              68.0  \n",
       "15151              3.0  \n",
       "15453              1.0  "
      ]
     },
     "execution_count": 952,
     "metadata": {},
     "output_type": "execute_result"
    }
   ],
   "source": [
    "df_train.tail(5)"
   ]
  },
  {
   "cell_type": "code",
   "execution_count": 953,
   "metadata": {},
   "outputs": [
    {
     "ename": "KeyboardInterrupt",
     "evalue": "",
     "output_type": "error",
     "traceback": [
      "\u001b[0;31m---------------------------------------------------------------------------\u001b[0m",
      "\u001b[0;31mKeyboardInterrupt\u001b[0m                         Traceback (most recent call last)",
      "Cell \u001b[0;32mIn [953], line 14\u001b[0m\n\u001b[1;32m     12\u001b[0m \u001b[39mfor\u001b[39;00m d \u001b[39min\u001b[39;00m list_da:\n\u001b[1;32m     13\u001b[0m     val \u001b[39m=\u001b[39m df_train[(df_train[\u001b[39m'\u001b[39m\u001b[39mproduct_number\u001b[39m\u001b[39m'\u001b[39m]\u001b[39m==\u001b[39mp) \u001b[39m&\u001b[39m (df_train[\u001b[39m'\u001b[39m\u001b[39mdate\u001b[39m\u001b[39m'\u001b[39m]\u001b[39m==\u001b[39md)][\u001b[39m'\u001b[39m\u001b[39minventory_units\u001b[39m\u001b[39m'\u001b[39m]\u001b[39m.\u001b[39msum()\n\u001b[0;32m---> 14\u001b[0m     val2 \u001b[39m=\u001b[39m df_train[(df_train[\u001b[39m'\u001b[39m\u001b[39mproduct_number\u001b[39m\u001b[39m'\u001b[39m]\u001b[39m==\u001b[39mp) \u001b[39m&\u001b[39m (df_train[\u001b[39m'\u001b[39;49m\u001b[39mdate\u001b[39;49m\u001b[39m'\u001b[39;49m]\u001b[39m==\u001b[39;49md)][\u001b[39m'\u001b[39m\u001b[39msales_units\u001b[39m\u001b[39m'\u001b[39m]\u001b[39m.\u001b[39msum()\n\u001b[1;32m     15\u001b[0m     \u001b[39mif\u001b[39;00m(val2 \u001b[39m>\u001b[39m val):\n\u001b[1;32m     16\u001b[0m         val2 \u001b[39m=\u001b[39m val\n",
      "File \u001b[0;32m/Library/Frameworks/Python.framework/Versions/3.11/lib/python3.11/site-packages/pandas/core/ops/common.py:72\u001b[0m, in \u001b[0;36m_unpack_zerodim_and_defer.<locals>.new_method\u001b[0;34m(self, other)\u001b[0m\n\u001b[1;32m     68\u001b[0m             \u001b[39mreturn\u001b[39;00m \u001b[39mNotImplemented\u001b[39m\n\u001b[1;32m     70\u001b[0m other \u001b[39m=\u001b[39m item_from_zerodim(other)\n\u001b[0;32m---> 72\u001b[0m \u001b[39mreturn\u001b[39;00m method(\u001b[39mself\u001b[39;49m, other)\n",
      "File \u001b[0;32m/Library/Frameworks/Python.framework/Versions/3.11/lib/python3.11/site-packages/pandas/core/arraylike.py:42\u001b[0m, in \u001b[0;36mOpsMixin.__eq__\u001b[0;34m(self, other)\u001b[0m\n\u001b[1;32m     40\u001b[0m \u001b[39m@unpack_zerodim_and_defer\u001b[39m(\u001b[39m\"\u001b[39m\u001b[39m__eq__\u001b[39m\u001b[39m\"\u001b[39m)\n\u001b[1;32m     41\u001b[0m \u001b[39mdef\u001b[39;00m \u001b[39m__eq__\u001b[39m(\u001b[39mself\u001b[39m, other):\n\u001b[0;32m---> 42\u001b[0m     \u001b[39mreturn\u001b[39;00m \u001b[39mself\u001b[39;49m\u001b[39m.\u001b[39;49m_cmp_method(other, operator\u001b[39m.\u001b[39;49meq)\n",
      "File \u001b[0;32m/Library/Frameworks/Python.framework/Versions/3.11/lib/python3.11/site-packages/pandas/core/series.py:6243\u001b[0m, in \u001b[0;36mSeries._cmp_method\u001b[0;34m(self, other, op)\u001b[0m\n\u001b[1;32m   6240\u001b[0m rvalues \u001b[39m=\u001b[39m extract_array(other, extract_numpy\u001b[39m=\u001b[39m\u001b[39mTrue\u001b[39;00m, extract_range\u001b[39m=\u001b[39m\u001b[39mTrue\u001b[39;00m)\n\u001b[1;32m   6242\u001b[0m \u001b[39mwith\u001b[39;00m np\u001b[39m.\u001b[39merrstate(\u001b[39mall\u001b[39m\u001b[39m=\u001b[39m\u001b[39m\"\u001b[39m\u001b[39mignore\u001b[39m\u001b[39m\"\u001b[39m):\n\u001b[0;32m-> 6243\u001b[0m     res_values \u001b[39m=\u001b[39m ops\u001b[39m.\u001b[39;49mcomparison_op(lvalues, rvalues, op)\n\u001b[1;32m   6245\u001b[0m \u001b[39mreturn\u001b[39;00m \u001b[39mself\u001b[39m\u001b[39m.\u001b[39m_construct_result(res_values, name\u001b[39m=\u001b[39mres_name)\n",
      "File \u001b[0;32m/Library/Frameworks/Python.framework/Versions/3.11/lib/python3.11/site-packages/pandas/core/ops/array_ops.py:287\u001b[0m, in \u001b[0;36mcomparison_op\u001b[0;34m(left, right, op)\u001b[0m\n\u001b[1;32m    284\u001b[0m     \u001b[39mreturn\u001b[39;00m invalid_comparison(lvalues, rvalues, op)\n\u001b[1;32m    286\u001b[0m \u001b[39melif\u001b[39;00m is_object_dtype(lvalues\u001b[39m.\u001b[39mdtype) \u001b[39mor\u001b[39;00m \u001b[39misinstance\u001b[39m(rvalues, \u001b[39mstr\u001b[39m):\n\u001b[0;32m--> 287\u001b[0m     res_values \u001b[39m=\u001b[39m comp_method_OBJECT_ARRAY(op, lvalues, rvalues)\n\u001b[1;32m    289\u001b[0m \u001b[39melse\u001b[39;00m:\n\u001b[1;32m    290\u001b[0m     res_values \u001b[39m=\u001b[39m _na_arithmetic_op(lvalues, rvalues, op, is_cmp\u001b[39m=\u001b[39m\u001b[39mTrue\u001b[39;00m)\n",
      "File \u001b[0;32m/Library/Frameworks/Python.framework/Versions/3.11/lib/python3.11/site-packages/pandas/core/ops/array_ops.py:75\u001b[0m, in \u001b[0;36mcomp_method_OBJECT_ARRAY\u001b[0;34m(op, x, y)\u001b[0m\n\u001b[1;32m     73\u001b[0m     result \u001b[39m=\u001b[39m libops\u001b[39m.\u001b[39mvec_compare(x\u001b[39m.\u001b[39mravel(), y\u001b[39m.\u001b[39mravel(), op)\n\u001b[1;32m     74\u001b[0m \u001b[39melse\u001b[39;00m:\n\u001b[0;32m---> 75\u001b[0m     result \u001b[39m=\u001b[39m libops\u001b[39m.\u001b[39;49mscalar_compare(x\u001b[39m.\u001b[39;49mravel(), y, op)\n\u001b[1;32m     76\u001b[0m \u001b[39mreturn\u001b[39;00m result\u001b[39m.\u001b[39mreshape(x\u001b[39m.\u001b[39mshape)\n",
      "\u001b[0;31mKeyboardInterrupt\u001b[0m: "
     ]
    }
   ],
   "source": [
    "list_id = df_train[\"product_number\"].unique()\n",
    "list_da = df_train[\"date\"].unique()\n",
    "list_da = list_da[-100:]\n",
    "cont = 0\n",
    "\n",
    "sns.set_theme(style=\"darkgrid\")\n",
    "\n",
    "for p in list_id:\n",
    "    it = []\n",
    "    st = []\n",
    "    qt = []\n",
    "    for d in list_da:\n",
    "        val = df_train[(df_train['product_number']==p) & (df_train['date']==d)]['inventory_units'].sum()\n",
    "        val2 = df_train[(df_train['product_number']==p) & (df_train['date']==d)]['sales_units'].sum()\n",
    "        if(val2 > val):\n",
    "            val2 = val\n",
    "        it.append(val)\n",
    "        st.append(val2)\n",
    "    \n",
    "    print(cont)\n",
    "    qt = general_solution(it, st)\n",
    "    cont += 1\n",
    "\n",
    "    \n",
    "\n",
    "    x = np.asarray(list_da, dtype='datetime64[s]')\n",
    "    sns.lineplot(x = x, y = it, label='Inventory')\n",
    "    sns.lineplot(x = x, y = st, label='Sales')\n",
    "    ax = sns.lineplot(x = x, y = qt, label='Planning')\n",
    "    plt.tick_params(axis='x', labelrotation=60)\n",
    "    ax.set(xlabel='Date', ylabel='Units')\n",
    "    plt.legend(title='Inventory planning', loc='upper left')\n",
    "    plt.show()\n",
    "\n",
    "    if(cont == 10): break"
   ]
  }
 ],
 "metadata": {
  "kernelspec": {
   "display_name": "Python 3",
   "language": "python",
   "name": "python3"
  },
  "language_info": {
   "codemirror_mode": {
    "name": "ipython",
    "version": 3
   },
   "file_extension": ".py",
   "mimetype": "text/x-python",
   "name": "python",
   "nbconvert_exporter": "python",
   "pygments_lexer": "ipython3",
   "version": "3.11.0"
  },
  "orig_nbformat": 4,
  "vscode": {
   "interpreter": {
    "hash": "aee8b7b246df8f9039afb4144a1f6fd8d2ca17a180786b69acc140d282b71a49"
   }
  }
 },
 "nbformat": 4,
 "nbformat_minor": 2
}
